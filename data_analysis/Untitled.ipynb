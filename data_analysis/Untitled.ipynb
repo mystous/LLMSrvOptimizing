{
 "cells": [
  {
   "cell_type": "code",
   "execution_count": 1,
   "id": "cf237387-ae07-40b6-a6db-14a798ec440a",
   "metadata": {},
   "outputs": [],
   "source": [
    "import json\n",
    "\n",
    "input_path = 'DeepSeek-R1-Distill-Llama-70B-20250625-060421-vllm_agg.json'\n",
    "output_path = 'DeepSeek-R1-Distill-Llama-70B-20250625-060421-vllm_agg_serving.json'\n",
    "\n",
    "with open(input_path, 'r') as infile:\n",
    "    data = json.load(infile)\n",
    "\n",
    "for obj in data:\n",
    "    obj[\"serving\"] = \"vllm\"\n",
    "\n",
    "with open(output_path, 'w') as outfile:\n",
    "    json.dump(data, outfile, indent=2)"
   ]
  },
  {
   "cell_type": "code",
   "execution_count": null,
   "id": "fc4f31ed-3321-4299-9924-6cb1c4b7fafb",
   "metadata": {},
   "outputs": [],
   "source": []
  }
 ],
 "metadata": {
  "kernelspec": {
   "display_name": "Python 3 (ipykernel)",
   "language": "python",
   "name": "python3"
  },
  "language_info": {
   "codemirror_mode": {
    "name": "ipython",
    "version": 3
   },
   "file_extension": ".py",
   "mimetype": "text/x-python",
   "name": "python",
   "nbconvert_exporter": "python",
   "pygments_lexer": "ipython3",
   "version": "3.12.3"
  }
 },
 "nbformat": 4,
 "nbformat_minor": 5
}
